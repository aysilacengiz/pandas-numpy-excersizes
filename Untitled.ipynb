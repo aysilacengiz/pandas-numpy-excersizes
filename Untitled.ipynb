{
 "cells": [
  {
   "cell_type": "code",
   "execution_count": 331,
   "id": "59e1bc0b-b251-44a8-943a-d79730d00bba",
   "metadata": {},
   "outputs": [],
   "source": [
    "import numpy as np\n",
    "import pandas as pd \n",
    "\n"
   ]
  },
  {
   "cell_type": "code",
   "execution_count": 349,
   "id": "e546e6fb-7b85-497b-9139-07da9c247628",
   "metadata": {},
   "outputs": [],
   "source": [
    "\n",
    "\n",
    "def calculate():\n",
    "    while True:\n",
    "        x = input('please enter 9 digits')\n",
    "        if len(x) == 9:\n",
    "            break\n",
    "        else:\n",
    "            print('List must contain nine digits')\n",
    "\n",
    "    list1 = []\n",
    "    for i in range(0,len(x)):\n",
    "        list1.append(int(x[i]))\n",
    "        \n",
    "    array = np.reshape(list1, (3,3))\n",
    "    \n",
    "    \n",
    "    dict = { 'mean': [[array[:,0].mean(), array[:,1].mean(), array[:,2].mean()],\n",
    "                      [array[0,:].mean(), array[1,:].mean(), array[2,:].mean()],\n",
    "                      array.mean()],\n",
    "            'variance':[[array[:,0].var(), array[:,1].var(), array[:,2].var()],\n",
    "                      [array[0,:].var(), array[1,:].var(), array[2,:].var()],\n",
    "                      array.var()],\n",
    "            'standart deviation' : [[array[:,0].std(), array[:,1].std(), array[:,2].std()],\n",
    "                      [array[0,:].std(), array[1,:].std(), array[2,:].std()],\n",
    "                      array.std()],\n",
    "            'max':[[array[:,0].max(), array[:,1].max(), array[:,2].max()],\n",
    "                      [array[0,:].max(), array[1,:].max(), array[2,:].max()],\n",
    "                          array.max()],\n",
    "            'min':[[array[:,0].min(), array[:,1].min(), array[:,2].min()],\n",
    "                      [array[0,:].min(), array[1,:].min(), array[2,:].min()],\n",
    "                      array.min()],\n",
    "            'sum':[[array[:,0].min(), array[:,1].min(), array[:,2].min()],\n",
    "                      [array[0,:].min(), array[1,:].min(), array[2,:].min()],\n",
    "                      array.min()]\n",
    "                      \n",
    "           }\n",
    "    \n",
    "   \n",
    "    table =  pd.DataFrame(dict, index =['Rows','Columns','All'])\n",
    "    return table\n",
    "\n",
    "   \n",
    "        "
   ]
  },
  {
   "cell_type": "code",
   "execution_count": 353,
   "id": "4bbe901c-3c7f-49d4-b581-70e53108d487",
   "metadata": {},
   "outputs": [
    {
     "name": "stdin",
     "output_type": "stream",
     "text": [
      "please enter 9 digits 999999999\n"
     ]
    },
    {
     "data": {
      "text/html": [
       "<div>\n",
       "<style scoped>\n",
       "    .dataframe tbody tr th:only-of-type {\n",
       "        vertical-align: middle;\n",
       "    }\n",
       "\n",
       "    .dataframe tbody tr th {\n",
       "        vertical-align: top;\n",
       "    }\n",
       "\n",
       "    .dataframe thead th {\n",
       "        text-align: right;\n",
       "    }\n",
       "</style>\n",
       "<table border=\"1\" class=\"dataframe\">\n",
       "  <thead>\n",
       "    <tr style=\"text-align: right;\">\n",
       "      <th></th>\n",
       "      <th>mean</th>\n",
       "      <th>variance</th>\n",
       "      <th>standart deviation</th>\n",
       "      <th>max</th>\n",
       "      <th>min</th>\n",
       "      <th>sum</th>\n",
       "    </tr>\n",
       "  </thead>\n",
       "  <tbody>\n",
       "    <tr>\n",
       "      <th>Rows</th>\n",
       "      <td>[9.0, 9.0, 9.0]</td>\n",
       "      <td>[0.0, 0.0, 0.0]</td>\n",
       "      <td>[0.0, 0.0, 0.0]</td>\n",
       "      <td>[9, 9, 9]</td>\n",
       "      <td>[9, 9, 9]</td>\n",
       "      <td>[9, 9, 9]</td>\n",
       "    </tr>\n",
       "    <tr>\n",
       "      <th>Columns</th>\n",
       "      <td>[9.0, 9.0, 9.0]</td>\n",
       "      <td>[0.0, 0.0, 0.0]</td>\n",
       "      <td>[0.0, 0.0, 0.0]</td>\n",
       "      <td>[9, 9, 9]</td>\n",
       "      <td>[9, 9, 9]</td>\n",
       "      <td>[9, 9, 9]</td>\n",
       "    </tr>\n",
       "    <tr>\n",
       "      <th>All</th>\n",
       "      <td>9.0</td>\n",
       "      <td>0.0</td>\n",
       "      <td>0.0</td>\n",
       "      <td>9</td>\n",
       "      <td>9</td>\n",
       "      <td>9</td>\n",
       "    </tr>\n",
       "  </tbody>\n",
       "</table>\n",
       "</div>"
      ],
      "text/plain": [
       "                    mean         variance standart deviation        max  \\\n",
       "Rows     [9.0, 9.0, 9.0]  [0.0, 0.0, 0.0]    [0.0, 0.0, 0.0]  [9, 9, 9]   \n",
       "Columns  [9.0, 9.0, 9.0]  [0.0, 0.0, 0.0]    [0.0, 0.0, 0.0]  [9, 9, 9]   \n",
       "All                  9.0              0.0                0.0          9   \n",
       "\n",
       "               min        sum  \n",
       "Rows     [9, 9, 9]  [9, 9, 9]  \n",
       "Columns  [9, 9, 9]  [9, 9, 9]  \n",
       "All              9          9  "
      ]
     },
     "execution_count": 353,
     "metadata": {},
     "output_type": "execute_result"
    }
   ],
   "source": [
    "calculate()\n"
   ]
  },
  {
   "cell_type": "code",
   "execution_count": null,
   "id": "60ec567c-946b-49ca-9725-bcce24612a34",
   "metadata": {},
   "outputs": [],
   "source": []
  }
 ],
 "metadata": {
  "kernelspec": {
   "display_name": "Python 3 (ipykernel)",
   "language": "python",
   "name": "python3"
  },
  "language_info": {
   "codemirror_mode": {
    "name": "ipython",
    "version": 3
   },
   "file_extension": ".py",
   "mimetype": "text/x-python",
   "name": "python",
   "nbconvert_exporter": "python",
   "pygments_lexer": "ipython3",
   "version": "3.12.4"
  }
 },
 "nbformat": 4,
 "nbformat_minor": 5
}
